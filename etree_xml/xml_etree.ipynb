{
 "cells": [
  {
   "cell_type": "markdown",
   "id": "bc55bcae-0967-4672-905a-c4b14ccf3317",
   "metadata": {},
   "source": [
    "# Python XML with ElementTree\n",
    "Tutorial from [datacamp][df1]\n",
    "\n",
    "[df1]: <https://www.datacamp.com/tutorial/python-xml-elementtree>"
   ]
  },
  {
   "cell_type": "code",
   "execution_count": 10,
   "id": "d5db36c1-e5d5-49da-b80a-d68624326fe7",
   "metadata": {},
   "outputs": [],
   "source": [
    "import xml.etree.ElementTree as ET"
   ]
  },
  {
   "cell_type": "code",
   "execution_count": 14,
   "id": "c6fa8534-434e-4d44-a251-16853c45cb2b",
   "metadata": {},
   "outputs": [
    {
     "data": {
      "text/plain": [
       "'test_xml.xml'"
      ]
     },
     "execution_count": 14,
     "metadata": {},
     "output_type": "execute_result"
    }
   ],
   "source": [
    "path = \"test_xml.xml\"\n",
    "path"
   ]
  },
  {
   "cell_type": "markdown",
   "id": "88319dc8-81d9-46b6-85c8-6c03bb5e677a",
   "metadata": {},
   "source": [
    "## Parsing XML Data"
   ]
  },
  {
   "cell_type": "code",
   "execution_count": 28,
   "id": "c2846efa-2418-4483-8863-5c444b132b7d",
   "metadata": {},
   "outputs": [
    {
     "data": {
      "text/plain": [
       "<Element 'collection' at 0x0000022A98AE71A0>"
      ]
     },
     "execution_count": 28,
     "metadata": {},
     "output_type": "execute_result"
    }
   ],
   "source": [
    "tree = ET.parse(path)\n",
    "\n",
    "root = tree.getroot()\n",
    "root"
   ]
  },
  {
   "cell_type": "code",
   "execution_count": 29,
   "id": "85083f45-9424-435f-b6ac-57a67e457b33",
   "metadata": {
    "tags": []
   },
   "outputs": [
    {
     "name": "stdout",
     "output_type": "stream",
     "text": [
      "<?xml version='1.0' encoding='utf8'?>\n",
      "<collection>\n",
      "    <genre category=\"Action\">\n",
      "        <decade years=\"1980s\">\n",
      "            <movie favorite=\"True\" title=\"Indiana Jones: The raiders of the lost Ark\">\n",
      "                <format multiple=\"No\">DVD</format>\n",
      "                <year>1981</year>\n",
      "                <rating>PG</rating>\n",
      "                <description>\n",
      "                'Archaeologist and adventurer Indiana Jones \n",
      "                is hired by the U.S. government to find the Ark of the \n",
      "                Covenant before the Nazis.'\n",
      "                </description>\n",
      "            </movie>\n",
      "               <movie favorite=\"True\" title=\"THE KARATE KID\">\n",
      "               <format multiple=\"Yes\">DVD,Online</format>\n",
      "               <year>1984</year>\n",
      "               <rating>PG</rating>\n",
      "               <description>None provided.</description>\n",
      "            </movie>\n",
      "            <movie favorite=\"False\" title=\"Back 2 the Future\">\n",
      "               <format multiple=\"False\">Blu-ray</format>\n",
      "               <year>1985</year>\n",
      "               <rating>PG</rating>\n",
      "               <description>Marty McFly</description>\n",
      "            </movie>\n",
      "        </decade>\n",
      "        <decade years=\"1990s\">\n",
      "            <movie favorite=\"False\" title=\"X-Men\">\n",
      "               <format multiple=\"Yes\">dvd, digital</format>\n",
      "               <year>2000</year>\n",
      "               <rating>PG-13</rating>\n",
      "               <description>Two mutants come to a private academy for their kind whose resident superhero team must \n",
      "               oppose a terrorist organization with similar powers.</description>\n",
      "            </movie>\n",
      "            <movie favorite=\"True\" title=\"Batman Returns\">\n",
      "               <format multiple=\"No\">VHS</format>\n",
      "               <year>1992</year>\n",
      "               <rating>PG13</rating>\n",
      "               <description>NA.</description>\n",
      "            </movie>\n",
      "               <movie favorite=\"False\" title=\"Reservoir Dogs\">\n",
      "               <format multiple=\"No\">Online</format>\n",
      "               <year>1992</year>\n",
      "               <rating>R</rating>\n",
      "               <description>WhAtEvER I Want!!!?!</description>\n",
      "            </movie>\n",
      "        </decade>    \n",
      "    </genre>\n",
      "\n",
      "    <genre category=\"Thriller\">\n",
      "        <decade years=\"1970s\">\n",
      "            <movie favorite=\"False\" title=\"ALIEN\">\n",
      "                <format multiple=\"Yes\">DVD</format>\n",
      "                <year>1979</year>\n",
      "                <rating>R</rating>\n",
      "                <description>\"\"\"\"\"\"\"\"\"</description>\n",
      "            </movie>\n",
      "        </decade>\n",
      "        <decade years=\"1980s\">\n",
      "            <movie favorite=\"True\" title=\"Ferris Bueller's Day Off\">\n",
      "                <format multiple=\"No\">DVD</format>\n",
      "                <year>1986</year>\n",
      "                <rating>PG13</rating>\n",
      "                <description>Funny movie about a funny guy</description>\n",
      "            </movie>\n",
      "            <movie favorite=\"FALSE\" title=\"American Psycho\">\n",
      "                <format multiple=\"No\">blue-ray</format>\n",
      "                <year>2000</year>\n",
      "                <rating>Unrated</rating>\n",
      "                <description>psychopathic Bateman</description>\n",
      "            </movie>\n",
      "        </decade>\n",
      "    </genre>\n",
      "\n",
      "    <genre category=\"Comedy\">\n",
      "        <decade years=\"1960s\">\n",
      "            <movie favorite=\"False\" title=\"Batman: The Movie\">\n",
      "                <format multiple=\"Yes\">DVD,VHS</format>\n",
      "                <year>1966</year>\n",
      "                <rating>PG</rating>\n",
      "                <description>What a joke!</description>\n",
      "            </movie>\n",
      "        </decade>\n",
      "        <decade years=\"2010s\">\n",
      "            <movie favorite=\"True\" title=\"Easy A\">\n",
      "                <format multiple=\"No\">DVD</format>\n",
      "                <year>2010</year>\n",
      "                <rating>Unrated</rating>\n",
      "                <description>Tim (Rudd) is a rising executive who “succeeds” in finding the perfect guest, IRS employee Barry (Carell), for his boss’ monthly event,</description>\n",
      "            </movie>\n",
      "        </decade>\n",
      "        <decade years=\"1980s\">\n",
      "            <movie favorite=\"False\" title=\"Ghostbusters\">\n",
      "                <format multiple=\"No\">Online,VHS</format>\n",
      "                <year>1984</year>\n",
      "                <rating>PG</rating>\n",
      "                <description>Who ya gonna call?</description>\n",
      "            </movie>\n",
      "        </decade>\n",
      "        <decade years=\"1990s\">\n",
      "            <movie favorite=\"True\" title=\"Robin Hood: Prince of Thieves\">\n",
      "                <format multiple=\"No\">Blu_Ray</format>\n",
      "                <year>1991</year>\n",
      "                <rating>Unknown</rating>\n",
      "                <description>Robin Hood slaying</description>\n",
      "            </movie>\n",
      "        </decade>\n",
      "    </genre>\n",
      "</collection>\n"
     ]
    }
   ],
   "source": [
    "print(ET.tostring(root, encoding=\"utf8\").decode('utf8'))"
   ]
  },
  {
   "cell_type": "code",
   "execution_count": 30,
   "id": "3e6afd06-c658-4dfc-b0bc-719e806ca4a2",
   "metadata": {},
   "outputs": [
    {
     "data": {
      "text/plain": [
       "'collection'"
      ]
     },
     "execution_count": 30,
     "metadata": {},
     "output_type": "execute_result"
    }
   ],
   "source": [
    "root.tag"
   ]
  },
  {
   "cell_type": "code",
   "execution_count": 31,
   "id": "6196aedd-077e-4dc2-add7-d61c58127b57",
   "metadata": {},
   "outputs": [
    {
     "data": {
      "text/plain": [
       "{}"
      ]
     },
     "execution_count": 31,
     "metadata": {},
     "output_type": "execute_result"
    }
   ],
   "source": [
    "root.attrib"
   ]
  },
  {
   "cell_type": "code",
   "execution_count": 32,
   "id": "0079a4b9-68d1-4cff-822d-9e7c40569e2c",
   "metadata": {},
   "outputs": [
    {
     "name": "stdout",
     "output_type": "stream",
     "text": [
      "genre {'category': 'Action'}\n",
      "genre {'category': 'Thriller'}\n",
      "genre {'category': 'Comedy'}\n"
     ]
    }
   ],
   "source": [
    "for child in root:\n",
    "    print(child.tag, child.attrib)"
   ]
  },
  {
   "cell_type": "code",
   "execution_count": 33,
   "id": "312746dc-c074-4ccc-8560-cda1f1960843",
   "metadata": {},
   "outputs": [
    {
     "name": "stdout",
     "output_type": "stream",
     "text": [
      "{'favorite': 'True', 'title': 'Indiana Jones: The raiders of the lost Ark'}\n",
      "{'favorite': 'True', 'title': 'THE KARATE KID'}\n",
      "{'favorite': 'False', 'title': 'Back 2 the Future'}\n",
      "{'favorite': 'False', 'title': 'X-Men'}\n",
      "{'favorite': 'True', 'title': 'Batman Returns'}\n",
      "{'favorite': 'False', 'title': 'Reservoir Dogs'}\n",
      "{'favorite': 'False', 'title': 'ALIEN'}\n",
      "{'favorite': 'True', 'title': \"Ferris Bueller's Day Off\"}\n",
      "{'favorite': 'FALSE', 'title': 'American Psycho'}\n",
      "{'favorite': 'False', 'title': 'Batman: The Movie'}\n",
      "{'favorite': 'True', 'title': 'Easy A'}\n",
      "{'favorite': 'False', 'title': 'Ghostbusters'}\n",
      "{'favorite': 'True', 'title': 'Robin Hood: Prince of Thieves'}\n"
     ]
    }
   ],
   "source": [
    "for movie in root.iter('movie'):\n",
    "    print(movie.attrib)"
   ]
  },
  {
   "cell_type": "markdown",
   "id": "d514a6f2-5994-4e58-8803-1af241a370db",
   "metadata": {},
   "source": [
    "# Xpath expressions"
   ]
  },
  {
   "cell_type": "code",
   "execution_count": 34,
   "id": "0557a74b-265e-4637-acb1-2788571612f1",
   "metadata": {},
   "outputs": [
    {
     "name": "stdout",
     "output_type": "stream",
     "text": [
      "'Archaeologist and adventurer Indiana Jones \n",
      "                is hired by the U.S. government to find the Ark of the \n",
      "                Covenant before the Nazis.'\n",
      "None provided.\n",
      "Marty McFly\n",
      "Two mutants come to a private academy for their kind whose resident superhero team must \n",
      "               oppose a terrorist organization with similar powers.\n",
      "NA.\n",
      "WhAtEvER I Want!!!?!\n",
      "\"\"\"\"\"\"\"\"\"\n",
      "Funny movie about a funny guy\n",
      "psychopathic Bateman\n",
      "What a joke!\n",
      "Tim (Rudd) is a rising executive who “succeeds” in finding the perfect guest, IRS employee Barry (Carell), for his boss’ monthly event,\n",
      "Who ya gonna call?\n",
      "Robin Hood slaying\n"
     ]
    }
   ],
   "source": [
    "for description in root.iter('description'):\n",
    "    print(description.text.strip())"
   ]
  },
  {
   "cell_type": "markdown",
   "id": "b2cf5536-b52f-414d-80e2-eca2a297a30b",
   "metadata": {},
   "source": [
    "### Understanding XPath is critically important to scanning and populating XMLs. ElementTree has a .findall() function that will traverse the immediate children of the referenced element. You can use XPath expressions to specify more useful searches."
   ]
  },
  {
   "cell_type": "code",
   "execution_count": 43,
   "id": "684cea05-c0c6-4c66-83bc-deb8abd8e0b4",
   "metadata": {},
   "outputs": [
    {
     "name": "stdout",
     "output_type": "stream",
     "text": [
      "<Element 'movie' at 0x0000022A9934CCC0>\n",
      "Batman Returns\n",
      "\n",
      "<Element 'movie' at 0x0000022A9934CE50>\n",
      "Reservoir Dogs\n",
      "\n"
     ]
    }
   ],
   "source": [
    "for movie in root.findall(\"./genre/decade/movie/[year='1992']\"):\n",
    "    print(movie)\n",
    "    print(movie.attrib['title'])\n",
    "    print()"
   ]
  },
  {
   "cell_type": "markdown",
   "id": "fc583c89-9f25-4e10-9c48-566c394b6190",
   "metadata": {},
   "source": [
    "### You can even search on attributes!"
   ]
  },
  {
   "cell_type": "code",
   "execution_count": 48,
   "id": "7cb7ac9a-f0bc-46e3-b1c2-c65c8bffc324",
   "metadata": {},
   "outputs": [
    {
     "name": "stdout",
     "output_type": "stream",
     "text": [
      "DVD,Online\n",
      "dvd, digital\n",
      "DVD\n",
      "DVD,VHS\n"
     ]
    }
   ],
   "source": [
    "for format_ in root.findall(\"./genre/decade/movie/format/[@multiple='Yes']\"):\n",
    "    print(format_.text)"
   ]
  },
  {
   "cell_type": "markdown",
   "id": "120d2753-5a44-43d7-90d9-5472429088f8",
   "metadata": {},
   "source": [
    "## Tip: use '...' inside of XPath to return the parent element of the current element."
   ]
  },
  {
   "cell_type": "code",
   "execution_count": 56,
   "id": "4c2599ff-6968-4d9d-aa0b-5f7265ec64ae",
   "metadata": {},
   "outputs": [
    {
     "name": "stdout",
     "output_type": "stream",
     "text": [
      "movie: {'favorite': 'True', 'title': 'THE KARATE KID'}\n",
      "movie: {'favorite': 'False', 'title': 'X-Men'}\n",
      "movie: {'favorite': 'False', 'title': 'ALIEN'}\n",
      "movie: {'favorite': 'False', 'title': 'Batman: The Movie'}\n"
     ]
    }
   ],
   "source": [
    "for movie in root.findall(\"./genre/decade/movie/format/[@multiple='Yes']...\"):\n",
    "    print(f\"{movie.tag}: {movie.attrib}\")"
   ]
  },
  {
   "cell_type": "code",
   "execution_count": 68,
   "id": "abad3ef7-4fbf-4340-86d5-8e88cf10370c",
   "metadata": {},
   "outputs": [
    {
     "name": "stdout",
     "output_type": "stream",
     "text": [
      "decade: {'years': '1980s'}\n",
      "decade: {'years': '1990s'}\n",
      "decade: {'years': '1970s'}\n",
      "decade: {'years': '1960s'}\n"
     ]
    }
   ],
   "source": [
    "for decade in root.findall(\"./genre/decade/movie/format/[@multiple='Yes'].....\"):\n",
    "    print(f\"{decade.tag}: {decade.attrib}\")"
   ]
  },
  {
   "cell_type": "code",
   "execution_count": 70,
   "id": "2c103b4b-a38e-4791-a534-a44b8a598d77",
   "metadata": {},
   "outputs": [
    {
     "name": "stdout",
     "output_type": "stream",
     "text": [
      "genre: {'category': 'Action'}\n",
      "genre: {'category': 'Thriller'}\n",
      "genre: {'category': 'Comedy'}\n"
     ]
    }
   ],
   "source": [
    "for genre in root.findall(\"./genre/decade/movie/format/[@multiple='Yes']......\"):\n",
    "    print(f\"{genre.tag}: {genre.attrib}\")"
   ]
  },
  {
   "cell_type": "code",
   "execution_count": 167,
   "id": "7de08fdc-a71c-4507-912b-9c2f8d5688cf",
   "metadata": {},
   "outputs": [
    {
     "name": "stdout",
     "output_type": "stream",
     "text": [
      "movie: {'favorite': 'True', 'title': 'Indiana Jones: The raiders of the lost Ark'}\n",
      "movie: {'favorite': 'True', 'title': 'THE KARATE KID'}\n",
      "movie: {'favorite': 'False', 'title': 'Back 2 the Future'}\n",
      "movie: {'favorite': 'False', 'title': 'X-Men'}\n",
      "movie: {'favorite': 'True', 'title': 'Batman Returns'}\n",
      "movie: {'favorite': 'False', 'title': 'Reservoir Dogs'}\n",
      "movie: {'favorite': 'False', 'title': 'ALIEN'}\n",
      "movie: {'favorite': 'True', 'title': \"Ferris Bueller's Day Off\"}\n",
      "movie: {'favorite': 'FALSE', 'title': 'American Psycho'}\n",
      "movie: {'favorite': 'False', 'title': 'Batman: The Movie'}\n",
      "movie: {'favorite': 'True', 'title': 'Easy A'}\n",
      "movie: {'favorite': 'False', 'title': 'Ghostbusters'}\n",
      "movie: {'favorite': 'True', 'title': 'Robin Hood: Prince of Thieves'}\n"
     ]
    }
   ],
   "source": [
    "for genre in root.findall(\"./genre/decade/movie\"):\n",
    "    print(f\"{genre.tag}: {genre.attrib}\")"
   ]
  },
  {
   "cell_type": "markdown",
   "id": "7404823e-93b2-4cb3-8575-316c4dc52a01",
   "metadata": {},
   "source": [
    "# Using iterparse\n",
    "```python\n",
    "iterparse()\n",
    "```"
   ]
  },
  {
   "cell_type": "code",
   "execution_count": 160,
   "id": "9347da6e-5c83-4175-b9f5-2864ba8a4076",
   "metadata": {},
   "outputs": [],
   "source": [
    "gs = []\n",
    "movies = []\n",
    "\n",
    "for event, elem in ET.iterparse(path, events=(\"start\", \"end\")):\n",
    "    t_name = elem.tag\n",
    "    if event == 'start':\n",
    "        if t_name == 'genre':\n",
    "            movie = []\n",
    "            genre = elem.attrib['category']\n",
    "            gs.append(genre)\n",
    "        elif t_name == 'movie':\n",
    "            title = elem.get('title')\n",
    "            movie.append(title)\n",
    "            \n",
    "    elif t_name == 'genre':\n",
    "        movies.append(movie)\n"
   ]
  },
  {
   "cell_type": "code",
   "execution_count": 161,
   "id": "51c13040-d474-4283-b9e9-447abce78309",
   "metadata": {},
   "outputs": [
    {
     "data": {
      "text/plain": [
       "(['Action', 'Thriller', 'Comedy'],\n",
       " [['Indiana Jones: The raiders of the lost Ark',\n",
       "   'THE KARATE KID',\n",
       "   'Back 2 the Future',\n",
       "   'X-Men',\n",
       "   'Batman Returns',\n",
       "   'Reservoir Dogs'],\n",
       "  ['ALIEN', \"Ferris Bueller's Day Off\", 'American Psycho'],\n",
       "  ['Batman: The Movie',\n",
       "   'Easy A',\n",
       "   'Ghostbusters',\n",
       "   'Robin Hood: Prince of Thieves']])"
      ]
     },
     "execution_count": 161,
     "metadata": {},
     "output_type": "execute_result"
    }
   ],
   "source": [
    "gs, movies"
   ]
  },
  {
   "cell_type": "code",
   "execution_count": 162,
   "id": "19b83174-510b-4521-8bb2-cd915652826b",
   "metadata": {},
   "outputs": [
    {
     "name": "stdout",
     "output_type": "stream",
     "text": [
      "Action: ['Indiana Jones: The raiders of the lost Ark', 'THE KARATE KID', 'Back 2 the Future', 'X-Men', 'Batman Returns', 'Reservoir Dogs']\n",
      "Thriller: ['ALIEN', \"Ferris Bueller's Day Off\", 'American Psycho']\n",
      "Comedy: ['Batman: The Movie', 'Easy A', 'Ghostbusters', 'Robin Hood: Prince of Thieves']\n"
     ]
    }
   ],
   "source": [
    "for gen, m in zip(gs, movies):\n",
    "    print(f\"{gen}: {m}\")"
   ]
  },
  {
   "cell_type": "code",
   "execution_count": 163,
   "id": "d44cd2e4-cf7f-48c1-aa99-49f6a7e3c7a4",
   "metadata": {},
   "outputs": [
    {
     "data": {
      "text/plain": [
       "{'Action': ['Indiana Jones: The raiders of the lost Ark',\n",
       "  'THE KARATE KID',\n",
       "  'Back 2 the Future',\n",
       "  'X-Men',\n",
       "  'Batman Returns',\n",
       "  'Reservoir Dogs'],\n",
       " 'Thriller': ['ALIEN', \"Ferris Bueller's Day Off\", 'American Psycho'],\n",
       " 'Comedy': ['Batman: The Movie',\n",
       "  'Easy A',\n",
       "  'Ghostbusters',\n",
       "  'Robin Hood: Prince of Thieves']}"
      ]
     },
     "execution_count": 163,
     "metadata": {},
     "output_type": "execute_result"
    }
   ],
   "source": [
    "d = {gen: m for gen, m in zip(gs, movies)}\n",
    "d"
   ]
  },
  {
   "cell_type": "code",
   "execution_count": null,
   "id": "167d16b6-4649-4c97-ba66-5bd0fcfe8d61",
   "metadata": {},
   "outputs": [],
   "source": [
    "gs = []\n",
    "movies = []\n",
    "\n",
    "for event, elem in ET.iterparse(path, events=(\"start\", \"end\")):\n",
    "    t_name = elem.tag\n",
    "    if event == 'start':\n",
    "        if t_name == 'genre':\n",
    "            movie = []\n",
    "            genre = elem.attrib['category']\n",
    "            gs.append(genre)\n",
    "        elif t_name == 'movie':\n",
    "            title = elem.get('title')\n",
    "            movie.append(title)\n",
    "            \n",
    "    elif t_name == 'genre':\n",
    "        movies.append(movie)"
   ]
  },
  {
   "cell_type": "code",
   "execution_count": null,
   "id": "e12aaf91-9cc0-4860-8866-cae10f393e26",
   "metadata": {},
   "outputs": [],
   "source": []
  }
 ],
 "metadata": {
  "kernelspec": {
   "display_name": "Python 3 (ipykernel)",
   "language": "python",
   "name": "python3"
  },
  "language_info": {
   "codemirror_mode": {
    "name": "ipython",
    "version": 3
   },
   "file_extension": ".py",
   "mimetype": "text/x-python",
   "name": "python",
   "nbconvert_exporter": "python",
   "pygments_lexer": "ipython3",
   "version": "3.10.7"
  }
 },
 "nbformat": 4,
 "nbformat_minor": 5
}
