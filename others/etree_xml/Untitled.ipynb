{
 "cells": [
  {
   "cell_type": "code",
   "execution_count": 116,
   "id": "40ad664a-a730-456f-86ba-77426f4e850d",
   "metadata": {},
   "outputs": [],
   "source": [
    "import xml.etree.ElementTree as ET\n",
    "import os\n",
    "import csv\n",
    "import codecs"
   ]
  },
  {
   "cell_type": "code",
   "execution_count": 117,
   "id": "6f349a9b-55fd-458e-a3d4-79765ebd5840",
   "metadata": {},
   "outputs": [],
   "source": [
    "FILE_PATH = os.path.join(r\"I:\\xml_codes\\internship\\files\\extracted_files\", \"DLTINS_20210118_01of01.xml\")\n",
    "CSV_FILE = \"csv_file.csv\""
   ]
  },
  {
   "cell_type": "code",
   "execution_count": 10,
   "id": "ae5be2bb-9cc6-4b09-be42-4e0b718b36c3",
   "metadata": {},
   "outputs": [],
   "source": [
    "def get_tag_name(t: str):\n",
    "    idx = t.rfind(\"}\")\n",
    "    if idx != -1:\n",
    "        t = t[idx + 1:]\n",
    "    return t"
   ]
  },
  {
   "cell_type": "code",
   "execution_count": 110,
   "id": "812f8f5b-84ef-47ad-b9cc-e66d224f5dba",
   "metadata": {},
   "outputs": [],
   "source": [
    "b = []\n",
    "\n",
    "for event, elem in ET.iterparse(FILE_PATH, events=(\"start\", \"end\")):\n",
    "    t_name = get_tag_name(elem.tag)\n",
    "       \n",
    "    if event == 'start':\n",
    "        data_1 = []\n",
    "        data_2 = []\n",
    "        \n",
    "        if t_name == 'TermntdRcrd':\n",
    "            for t in elem:\n",
    "                if get_tag_name(t.tag) == 'FinInstrmGnlAttrbts':\n",
    "                    for a in t:\n",
    "                        if get_tag_name(a.tag) == 'Id':\n",
    "                            id_ = a.text\n",
    "                        elif get_tag_name(a.tag) == 'FullNm':\n",
    "                            full_name = a.text\n",
    "                        elif get_tag_name(a.tag) == 'ClssfctnTp':\n",
    "                            cft = a.text\n",
    "                        elif get_tag_name(a.tag) == 'CmmdtyDerivInd':\n",
    "                            cdi = a.text\n",
    "                        elif get_tag_name(a.tag) == 'NtnlCcy':\n",
    "                            nc = a.text\n",
    "                            \n",
    "                elif get_tag_name(t.tag) == 'Issr':\n",
    "                    issr = t.text\n",
    "                \n",
    "            data_1.extend([id_, full_name, cft, cdi, nc, issr])\n",
    "                \n",
    "        elif t_name == 'ModfdRcrd':\n",
    "            for t in elem:\n",
    "                if get_tag_name(t.tag) == 'FinInstrmGnlAttrbts':\n",
    "                    for a in t:\n",
    "                        if get_tag_name(a.tag) == 'Id':\n",
    "                            id_ = a.text\n",
    "                        elif get_tag_name(a.tag) == 'FullNm':\n",
    "                            full_name = a.text\n",
    "                        elif get_tag_name(a.tag) == 'ClssfctnTp':\n",
    "                            cft = a.text\n",
    "                        elif get_tag_name(a.tag) == 'CmmdtyDerivInd':\n",
    "                            cdi = a.text\n",
    "                        elif get_tag_name(a.tag) == 'NtnlCcy':\n",
    "                            nc = a.text\n",
    "                            \n",
    "                elif get_tag_name(t.tag) == 'Issr':\n",
    "                    issr = t.text\n",
    "                \n",
    "            data_2.extend([id_, full_name, cft, cdi, nc, issr])\n",
    "    \n",
    "    if len(data_1) > 0:\n",
    "        b.append(data_1)\n",
    "    elif len(data_2) > 0:\n",
    "        b.append(data_2)\n",
    "        \n",
    "    elem.clear()\n",
    "            "
   ]
  },
  {
   "cell_type": "code",
   "execution_count": 111,
   "id": "ee19a65f-afc4-430a-a803-94562392525e",
   "metadata": {},
   "outputs": [
    {
     "data": {
      "text/plain": [
       "1378"
      ]
     },
     "execution_count": 111,
     "metadata": {},
     "output_type": "execute_result"
    }
   ],
   "source": [
    "len(b)"
   ]
  },
  {
   "cell_type": "code",
   "execution_count": 120,
   "id": "3253f550-bc30-4bf4-b978-a1a339edcd17",
   "metadata": {},
   "outputs": [],
   "source": [
    "with codecs.open(CSV_FILE, \"w\", \"utf-8\") as f:\n",
    "    csv_writer = csv.writer(f, quoting=csv.QUOTE_MINIMAL)\n",
    "    \n",
    "    csv_writer.writerow([\n",
    "        'FinInstrmGnlAttrbts.Id', 'FinInstrmGnlAttrbts.FullNm', 'FinInstrmGnlAttrbts.ClssfctnTp',\n",
    "        'FinInstrmGnlAttrbts.CmmdtyDerivInd', 'FinInstrmGnlAttrbts.NtnlCcy', 'Issr'\n",
    "    ])\n",
    "    \n",
    "    [csv_writer.writerow(doc) for doc in b]"
   ]
  },
  {
   "cell_type": "code",
   "execution_count": 121,
   "id": "74ba079c-c670-4353-9b4a-be7f322877a6",
   "metadata": {},
   "outputs": [],
   "source": [
    "with codecs.open(\"csv_f_1.csv\", \"w\", \"utf-8\") as f:\n",
    "    csv_writer = csv.writer(f, quoting=csv.QUOTE_MINIMAL)\n",
    "    \n",
    "    csv_writer.writerow([\n",
    "        'FinInstrmGnlAttrbts.Id', 'FinInstrmGnlAttrbts.FullNm', 'FinInstrmGnlAttrbts.ClssfctnTp',\n",
    "        'FinInstrmGnlAttrbts.CmmdtyDerivInd', 'FinInstrmGnlAttrbts.NtnlCcy', 'Issr'\n",
    "    ])\n",
    "    \n",
    "    for event, elem in ET.iterparse(FILE_PATH, events=(\"start\", \"end\")):\n",
    "        t_name = get_tag_name(elem.tag)\n",
    "\n",
    "        if event == 'start':\n",
    "            data_1 = []\n",
    "            data_2 = []\n",
    "\n",
    "            if t_name == 'TermntdRcrd':\n",
    "                for t in elem:\n",
    "                    if get_tag_name(t.tag) == 'FinInstrmGnlAttrbts':\n",
    "                        for a in t:\n",
    "                            if get_tag_name(a.tag) == 'Id':\n",
    "                                id_ = a.text\n",
    "                            elif get_tag_name(a.tag) == 'FullNm':\n",
    "                                full_name = a.text\n",
    "                            elif get_tag_name(a.tag) == 'ClssfctnTp':\n",
    "                                cft = a.text\n",
    "                            elif get_tag_name(a.tag) == 'CmmdtyDerivInd':\n",
    "                                cdi = a.text\n",
    "                            elif get_tag_name(a.tag) == 'NtnlCcy':\n",
    "                                nc = a.text\n",
    "\n",
    "                    elif get_tag_name(t.tag) == 'Issr':\n",
    "                        issr = t.text\n",
    "\n",
    "                csv_writer.writerow([id_, full_name, cft, cdi, nc, issr])\n",
    "\n",
    "            elif t_name == 'ModfdRcrd':\n",
    "                for t in elem:\n",
    "                    if get_tag_name(t.tag) == 'FinInstrmGnlAttrbts':\n",
    "                        for a in t:\n",
    "                            if get_tag_name(a.tag) == 'Id':\n",
    "                                id_ = a.text\n",
    "                            elif get_tag_name(a.tag) == 'FullNm':\n",
    "                                full_name = a.text\n",
    "                            elif get_tag_name(a.tag) == 'ClssfctnTp':\n",
    "                                cft = a.text\n",
    "                            elif get_tag_name(a.tag) == 'CmmdtyDerivInd':\n",
    "                                cdi = a.text\n",
    "                            elif get_tag_name(a.tag) == 'NtnlCcy':\n",
    "                                nc = a.text\n",
    "\n",
    "                    elif get_tag_name(t.tag) == 'Issr':\n",
    "                        issr = t.text\n",
    "\n",
    "                csv_writer.writerow([id_, full_name, cft, cdi, nc, issr])\n",
    "\n",
    "        elem.clear()"
   ]
  },
  {
   "cell_type": "code",
   "execution_count": null,
   "id": "2204306f-822f-4aaa-8e4f-844319001148",
   "metadata": {},
   "outputs": [],
   "source": []
  }
 ],
 "metadata": {
  "kernelspec": {
   "display_name": "Python 3 (ipykernel)",
   "language": "python",
   "name": "python3"
  },
  "language_info": {
   "codemirror_mode": {
    "name": "ipython",
    "version": 3
   },
   "file_extension": ".py",
   "mimetype": "text/x-python",
   "name": "python",
   "nbconvert_exporter": "python",
   "pygments_lexer": "ipython3",
   "version": "3.10.7"
  }
 },
 "nbformat": 4,
 "nbformat_minor": 5
}
