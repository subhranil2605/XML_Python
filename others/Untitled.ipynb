{
 "cells": [
  {
   "cell_type": "code",
   "execution_count": 1,
   "id": "b11cb873-a328-4f61-9405-53d119d5625a",
   "metadata": {},
   "outputs": [],
   "source": [
    "import xml.etree.ElementTree as ET\n",
    "import codecs\n",
    "import time\n",
    "import os"
   ]
  },
  {
   "cell_type": "code",
   "execution_count": 2,
   "id": "8153ae12-5e7c-4e33-8762-342f85c6a4c1",
   "metadata": {},
   "outputs": [],
   "source": [
    "FILE_PATH = \"files/extracted_files/DLTINS_20210118_01of01.xml\"\n",
    "ENCODING = \"utf-8\""
   ]
  },
  {
   "cell_type": "code",
   "execution_count": 3,
   "id": "d6d9f88a-1c36-4038-8838-eb35ea4d824a",
   "metadata": {},
   "outputs": [],
   "source": [
    "def get_tag_name(t):\n",
    "    idx = k = t.rfind(\"}\")\n",
    "    if idx != -1:\n",
    "        t = t[idx + 1: ]\n",
    "    return t"
   ]
  },
  {
   "cell_type": "code",
   "execution_count": 9,
   "id": "fc702716-7cbd-4c11-ab3c-8231ae060387",
   "metadata": {},
   "outputs": [],
   "source": [
    "def head(l, n=5):\n",
    "    print(l[:n])"
   ]
  },
  {
   "cell_type": "code",
   "execution_count": 4,
   "id": "5535073d-c37d-4ae7-8685-a2b0cca96b72",
   "metadata": {},
   "outputs": [
    {
     "data": {
      "text/plain": [
       "'BizData'"
      ]
     },
     "execution_count": 4,
     "metadata": {},
     "output_type": "execute_result"
    }
   ],
   "source": [
    "t = \"{urn:iso:std:iso:20022:tech:xsd:head.003.001.01}BizData\"\n",
    "get_tag_name(t)"
   ]
  },
  {
   "cell_type": "code",
   "execution_count": 16,
   "id": "89ccd189-eb2d-4c22-9cf6-076df155cb31",
   "metadata": {},
   "outputs": [
    {
     "data": {
      "text/plain": [
       "2778"
      ]
     },
     "execution_count": 16,
     "metadata": {},
     "output_type": "execute_result"
    }
   ],
   "source": [
    "issrs = []\n",
    "ids = []\n",
    "\n",
    "for event, elem in ET.iterparse(FILE_PATH, events=(\"start\", \"end\")):\n",
    "    t_name = get_tag_name(elem.tag)\n",
    "    \n",
    "    if event == 'start':\n",
    "        if t_name == 'Issr':\n",
    "            issrs.append(elem.text)\n",
    "        elif t_name == 'Id':\n",
    "            ids.append(elem.text)\n",
    "            \n",
    "    elem.clear()\n",
    "\n",
    "len(issrs)\n",
    "len(ids)\n",
    "            "
   ]
  },
  {
   "cell_type": "code",
   "execution_count": 18,
   "id": "3d7237fc-59d5-4c2f-93b9-96b9581173bb",
   "metadata": {},
   "outputs": [
    {
     "name": "stdout",
     "output_type": "stream",
     "text": [
      "[None, 'EU', None, 'Public', 'EZV1JDJ1R5Q9', 'EBSF', 'EZV4N4MHR6R0', 'EBSF', 'EZV51K6FBPB6', 'TWEM', 'EZV8QY62F100', 'EBSF', 'EZV9QCSPFHR0', 'BTFE', 'EZV9QCSPFHR0', 'EBSF', 'EZV9QCSPFHR0', 'FXRQ', 'EZVFD5W7NCP9', 'EBSF', 'EZVGNMRFJ5T4', 'EBSF', 'EZVHVPWN6MF5', 'EBSF', 'EZVJ4S0VLHT0', 'EBSF', 'EZVLTNQ077N1', 'EBSF', 'EZVR3VK2RLD9', 'EBSF', 'EZVVSRHRCXZ0', 'EBSF', 'EZWQ5BZQ5B61', 'TWEM', 'EZWT4YWMCRR1', 'EBSF', 'EZXBVTJW1075', 'EBSF', 'EZXGZ2KHBX52', 'EBSF', 'EZYG6HFBB339', 'TWEM', 'EZYQMYM1GGL7', 'BGCO', 'EZYQMYM1GGL7', 'BTFE', 'EZYQMYM1GGL7', 'TREU', 'EZYQMYM1GGL7', 'TWEM', 'EZZ2V0YNH1L1', 'CIMV', 'USG0732RAF58', 'BTFE', 'XS1720053229', 'AURO', 'XS1720053229', 'BTFE', 'XS1720053229', 'TWEM', 'XS1720053229', 'XMSM', 'XS2065108206', 'XSGA', 'XS2065108545', 'XSGA', 'XS2065111762', 'XSGA', 'XS2094512394', 'XMSM', 'XS2103230749', 'XEYE', 'EZ1NQL0L7467', 'EBSF', 'EZ1QJ80R18F1', 'EBSF', 'EZ1QQN22LK04', 'EBSF', 'EZ22PNHYCJG4', 'EBSF', 'EZ257N66VMJ1', 'EBSF', 'EZ2B9ZH2YLM2', 'EBSF', 'EZ2F0Q6Y23L1', 'EBSF', 'EZ2KCQK404Q2', 'EBSF', 'EZ2N6JNK8Z30', 'EBSF', 'EZ2VGJ6M2X09', 'EBSF', 'EZ2W5B2J0QH9', 'EBSF', 'EZ2Z6TS454M7', 'EBSF', 'EZ336SPCZ968', 'EBSF', 'EZ36PV5X3WM0', 'EBSF']\n"
     ]
    }
   ],
   "source": []
  },
  {
   "cell_type": "code",
   "execution_count": null,
   "id": "5e9a5162-55b5-496a-999a-99e6e38eb323",
   "metadata": {},
   "outputs": [],
   "source": []
  }
 ],
 "metadata": {
  "kernelspec": {
   "display_name": "Python 3 (ipykernel)",
   "language": "python",
   "name": "python3"
  },
  "language_info": {
   "codemirror_mode": {
    "name": "ipython",
    "version": 3
   },
   "file_extension": ".py",
   "mimetype": "text/x-python",
   "name": "python",
   "nbconvert_exporter": "python",
   "pygments_lexer": "ipython3",
   "version": "3.10.7"
  }
 },
 "nbformat": 4,
 "nbformat_minor": 5
}
