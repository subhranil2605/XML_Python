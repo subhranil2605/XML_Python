{
 "cells": [
  {
   "cell_type": "code",
   "execution_count": 14,
   "id": "6569f68d-0750-4a37-9e07-29659aa53372",
   "metadata": {},
   "outputs": [],
   "source": [
    "from xml.dom import minidom\n",
    "import xml.dom"
   ]
  },
  {
   "cell_type": "code",
   "execution_count": 19,
   "id": "770a50fc-39a8-4c21-9193-383f21e389e6",
   "metadata": {},
   "outputs": [
    {
     "name": "stdout",
     "output_type": "stream",
     "text": [
      "<collection shelf=\"New Arrivals\">\n",
      "<movie title=\"Enemy Behind\">\n",
      "   <type>War, Thriller</type>\n",
      "   <format>DVD</format>\n",
      "   <year>2003</year>\n",
      "   <rating>PG</rating>\n",
      "   <stars>10</stars>\n",
      "   <description>Talk about a US-Japan war</description>\n",
      "</movie>\n",
      "<movie title=\"Transformers\">\n",
      "   <type>Anime, Science Fiction</type>\n",
      "   <format>DVD</format>\n",
      "   <year>1989</year>\n",
      "   <rating>R</rating>\n",
      "   <stars>8</stars>\n",
      "   <description>A schientific fiction</description>\n",
      "</movie>\n",
      "   <movie title=\"Trigun\">\n",
      "   <type>Anime, Action</type>\n",
      "   <format>DVD</format>\n",
      "   <episodes>4</episodes>\n",
      "   <rating>PG</rating>\n",
      "   <stars>10</stars>\n",
      "   <description>Vash the Stampede!</description>\n",
      "</movie>\n",
      "<movie title=\"Ishtar\">\n",
      "   <type>Comedy</type>\n",
      "   <format>VHS</format>\n",
      "   <rating>PG</rating>\n",
      "   <stars>2</stars>\n",
      "   <description>Viewable boredom</description>\n",
      "</movie>\n",
      "</collection>\n"
     ]
    }
   ],
   "source": [
    "with open(\"test.xml\") as f:\n",
    "    data = f.read()\n",
    "    \n",
    "print(data)"
   ]
  },
  {
   "cell_type": "markdown",
   "id": "ea3fb29d-910b-4e0a-ac0d-57a5670335d2",
   "metadata": {},
   "source": [
    "# Open XML document using minidom parser"
   ]
  },
  {
   "cell_type": "code",
   "execution_count": 2,
   "id": "0a9ef249-e72c-4175-9ad2-e473f4218f20",
   "metadata": {},
   "outputs": [
    {
     "name": "stdout",
     "output_type": "stream",
     "text": [
      "Root element : New Arrivals\n"
     ]
    }
   ],
   "source": [
    "dom_tree = minidom.parse(\"test.xml\")\n",
    "collection = dom_tree.documentElement\n",
    "if collection.hasAttribute(\"shelf\"):\n",
    "    print(f\"Root element : {collection.getAttribute('shelf')}\")"
   ]
  },
  {
   "cell_type": "code",
   "execution_count": 3,
   "id": "679832e1-c2cd-4c2a-a2e3-f994b5b4716a",
   "metadata": {},
   "outputs": [],
   "source": [
    "# Get all the movies in the collection\n",
    "movies = collection.getElementsByTagName(\"movie\")"
   ]
  },
  {
   "cell_type": "code",
   "execution_count": 10,
   "id": "185a2a7e-0836-4f2e-8407-5f6db2c71410",
   "metadata": {},
   "outputs": [
    {
     "name": "stdout",
     "output_type": "stream",
     "text": [
      "*****Movie*****\n",
      "Title: Enemy Behind\n",
      "*****Movie*****\n",
      "Title: Transformers\n",
      "*****Movie*****\n",
      "Title: Trigun\n",
      "*****Movie*****\n",
      "Title: Ishtar\n"
     ]
    }
   ],
   "source": [
    "types = []\n",
    "for movie in movies:\n",
    "    print(\"*****Movie*****\")\n",
    "    if movie.hasAttribute(\"title\"):\n",
    "        print(f\"Title: {movie.getAttribute('title')}\")\n",
    "\n",
    "    type_ = movie.getElementsByTagName('type')\n",
    "    types.append(type_)"
   ]
  },
  {
   "cell_type": "code",
   "execution_count": 23,
   "id": "0034f158-642e-47a7-9da7-c36047b689a6",
   "metadata": {
    "tags": []
   },
   "outputs": [
    {
     "name": "stdout",
     "output_type": "stream",
     "text": [
      "[<DOM Element: type at 0x1cdee825480>]\n",
      "[<DOM Element: type at 0x1cdee825870>]\n",
      "[<DOM Element: type at 0x1cdee825c60>]\n",
      "[<DOM Element: type at 0x1cdee826050>]\n"
     ]
    }
   ],
   "source": [
    "for t in types:\n",
    "    print(t)\n",
    "    # print(t[0].childNodes[0].data)"
   ]
  },
  {
   "cell_type": "code",
   "execution_count": 24,
   "id": "c25589e1-7a1e-45b3-a34d-e66c69afbf3c",
   "metadata": {},
   "outputs": [
    {
     "name": "stdout",
     "output_type": "stream",
     "text": [
      "<DOM Element: type at 0x1cdee825480>\n",
      "<DOM Element: type at 0x1cdee825870>\n",
      "<DOM Element: type at 0x1cdee825c60>\n",
      "<DOM Element: type at 0x1cdee826050>\n"
     ]
    }
   ],
   "source": [
    "for t in types:\n",
    "    print(t[0])"
   ]
  },
  {
   "cell_type": "code",
   "execution_count": 25,
   "id": "a6dfb57a-e88d-480b-81fc-700902992cab",
   "metadata": {},
   "outputs": [
    {
     "name": "stdout",
     "output_type": "stream",
     "text": [
      "[<DOM Text node \"'War, Thril'...\">]\n",
      "[<DOM Text node \"'Anime, Sci'...\">]\n",
      "[<DOM Text node \"'Anime, Act'...\">]\n",
      "[<DOM Text node \"'Comedy'\">]\n"
     ]
    }
   ],
   "source": [
    "for t in types:\n",
    "    print(t[0].childNodes)"
   ]
  },
  {
   "cell_type": "code",
   "execution_count": 26,
   "id": "fba95593-bd5b-412e-9c97-da0abebdd079",
   "metadata": {},
   "outputs": [
    {
     "name": "stdout",
     "output_type": "stream",
     "text": [
      "<DOM Text node \"'War, Thril'...\">\n",
      "<DOM Text node \"'Anime, Sci'...\">\n",
      "<DOM Text node \"'Anime, Act'...\">\n",
      "<DOM Text node \"'Comedy'\">\n"
     ]
    }
   ],
   "source": [
    "for t in types:\n",
    "    print(t[0].childNodes[0])"
   ]
  },
  {
   "cell_type": "code",
   "execution_count": 27,
   "id": "e6b27593-1706-450c-9ed9-32f40d03c305",
   "metadata": {},
   "outputs": [
    {
     "name": "stdout",
     "output_type": "stream",
     "text": [
      "War, Thriller\n",
      "Anime, Science Fiction\n",
      "Anime, Action\n",
      "Comedy\n"
     ]
    }
   ],
   "source": [
    "for t in types:\n",
    "    print(t[0].childNodes[0].data)"
   ]
  },
  {
   "cell_type": "code",
   "execution_count": 36,
   "id": "e000f331-25c2-407d-a682-9d4bf1e41314",
   "metadata": {},
   "outputs": [
    {
     "name": "stdout",
     "output_type": "stream",
     "text": [
      "*****Movie*****\n",
      "Title: Enemy Behind\n",
      "Type: War, Thriller\n",
      "Format: DVD\n",
      "Year: 2003\n",
      "Rating: PG\n",
      "\n",
      "*****Movie*****\n",
      "Title: Transformers\n",
      "Type: Anime, Science Fiction\n",
      "Format: DVD\n",
      "Year: 1989\n",
      "Rating: R\n",
      "\n",
      "*****Movie*****\n",
      "Title: Trigun\n",
      "Type: Anime, Action\n",
      "Format: DVD\n",
      "*****Movie*****\n",
      "Title: Ishtar\n",
      "Type: Comedy\n",
      "Format: VHS\n"
     ]
    }
   ],
   "source": [
    "for movie in movies:\n",
    "    print(\"*****Movie*****\")\n",
    "    if movie.hasAttribute(\"title\"):\n",
    "        print(f\"Title: {movie.getAttribute('title')}\")\n",
    "    \n",
    "    try:\n",
    "        type_ = movie.getElementsByTagName('type')[0]\n",
    "        print(f\"Type: {type_.childNodes[0].data}\")\n",
    "\n",
    "        format_ = movie.getElementsByTagName('format')[0]\n",
    "        print(f\"Format: {format_.childNodes[0].data}\")\n",
    "\n",
    "        year = movie.getElementsByTagName('year')[0]\n",
    "        print(f\"Year: {year.childNodes[0].data}\")\n",
    "\n",
    "        rating = movie.getElementsByTagName('rating')[0]\n",
    "        print(f\"Rating: {rating.childNodes[0].data}\")\n",
    "\n",
    "        print()\n",
    "    except:\n",
    "        pass\n",
    "    "
   ]
  },
  {
   "cell_type": "code",
   "execution_count": 37,
   "id": "a5134abe-1ebc-443e-be63-cbc05901c472",
   "metadata": {},
   "outputs": [],
   "source": [
    "doc = minidom.parse(\"test.xml\")"
   ]
  },
  {
   "cell_type": "code",
   "execution_count": 43,
   "id": "3c46d600-2aed-4a7b-bf15-0f5d49a0ff7c",
   "metadata": {},
   "outputs": [
    {
     "data": {
      "text/plain": [
       "<DOM Element: collection at 0x1cdf0133490>"
      ]
     },
     "execution_count": 43,
     "metadata": {},
     "output_type": "execute_result"
    }
   ],
   "source": [
    "col = doc.documentElement\n",
    "col"
   ]
  },
  {
   "cell_type": "code",
   "execution_count": 48,
   "id": "012c6648-bb15-45d0-ad7c-df414ec96fe3",
   "metadata": {},
   "outputs": [],
   "source": [
    "attbs = col.attributes"
   ]
  },
  {
   "cell_type": "code",
   "execution_count": 59,
   "id": "6cb086ee-df5a-4a40-adbb-3a643617b1e2",
   "metadata": {},
   "outputs": [
    {
     "name": "stdout",
     "output_type": "stream",
     "text": [
      "('shelf', 'New Arrivals')\n"
     ]
    }
   ],
   "source": [
    "for a in attbs.items():\n",
    "    print(a)"
   ]
  },
  {
   "cell_type": "code",
   "execution_count": 60,
   "id": "6d7cc965-a7d1-44a8-a806-aeec18b11a5c",
   "metadata": {},
   "outputs": [
    {
     "name": "stdout",
     "output_type": "stream",
     "text": [
      "Root element is: New Arrivals\n"
     ]
    }
   ],
   "source": [
    "print(f\"Root element is: {col.getAttribute('shelf')}\")"
   ]
  },
  {
   "cell_type": "code",
   "execution_count": 75,
   "id": "275ccffb-d91e-4af2-bac1-6f57b0b7e488",
   "metadata": {},
   "outputs": [
    {
     "data": {
      "text/plain": [
       "[<DOM Text node \"'\\n'\">,\n",
       " <DOM Element: movie at 0x1cdf071e8c0>,\n",
       " <DOM Text node \"'\\n'\">,\n",
       " <DOM Element: movie at 0x1cdf071d7e0>,\n",
       " <DOM Text node \"'\\n   '\">,\n",
       " <DOM Element: movie at 0x1cdf071f520>,\n",
       " <DOM Text node \"'\\n'\">,\n",
       " <DOM Element: movie at 0x1cdf071f5b0>,\n",
       " <DOM Text node \"'\\n'\">]"
      ]
     },
     "execution_count": 75,
     "metadata": {},
     "output_type": "execute_result"
    }
   ],
   "source": [
    "col.childNodes"
   ]
  },
  {
   "cell_type": "code",
   "execution_count": 74,
   "id": "aa123557-cb7a-4261-8776-c0afecc2e6c8",
   "metadata": {},
   "outputs": [
    {
     "data": {
      "text/plain": [
       "[<DOM Element: movie at 0x1cdf071e8c0>,\n",
       " <DOM Element: movie at 0x1cdf071d7e0>,\n",
       " <DOM Element: movie at 0x1cdf071f520>,\n",
       " <DOM Element: movie at 0x1cdf071f5b0>]"
      ]
     },
     "execution_count": 74,
     "metadata": {},
     "output_type": "execute_result"
    }
   ],
   "source": [
    "col.getElementsByTagName(\"movie\")"
   ]
  },
  {
   "cell_type": "code",
   "execution_count": 76,
   "id": "a9a13da1-066c-4242-b79b-ec5c04ae503c",
   "metadata": {},
   "outputs": [],
   "source": [
    "movies = col.getElementsByTagName(\"movie\")"
   ]
  },
  {
   "cell_type": "code",
   "execution_count": 78,
   "id": "6118b3ff-0ab3-4382-a330-f781f4611f53",
   "metadata": {},
   "outputs": [
    {
     "name": "stdout",
     "output_type": "stream",
     "text": [
      "dict_keys(['title'])\n",
      "dict_keys(['title'])\n",
      "dict_keys(['title'])\n",
      "dict_keys(['title'])\n"
     ]
    }
   ],
   "source": [
    "for movie in movies:\n",
    "    print(movie.attributes.keys())"
   ]
  },
  {
   "cell_type": "code",
   "execution_count": 79,
   "id": "2f9dabb6-6401-4a4a-97fb-91ce2098f290",
   "metadata": {},
   "outputs": [
    {
     "name": "stdout",
     "output_type": "stream",
     "text": [
      "Enemy Behind\n",
      "Transformers\n",
      "Trigun\n",
      "Ishtar\n"
     ]
    }
   ],
   "source": [
    "for movie in movies:\n",
    "    print(movie.getAttribute(\"title\"))"
   ]
  },
  {
   "cell_type": "code",
   "execution_count": 80,
   "id": "8220e7a9-7086-45ae-8fef-1b1b79a42436",
   "metadata": {},
   "outputs": [
    {
     "data": {
      "text/plain": [
       "[<DOM Text node \"'\\n   '\">,\n",
       " <DOM Element: type at 0x1cdf071f9a0>,\n",
       " <DOM Text node \"'\\n   '\">,\n",
       " <DOM Element: format at 0x1cdf071dcf0>,\n",
       " <DOM Text node \"'\\n   '\">,\n",
       " <DOM Element: year at 0x1cdf071ea70>,\n",
       " <DOM Text node \"'\\n   '\">,\n",
       " <DOM Element: rating at 0x1cdf071e290>,\n",
       " <DOM Text node \"'\\n   '\">,\n",
       " <DOM Element: stars at 0x1cdf071fa30>,\n",
       " <DOM Text node \"'\\n   '\">,\n",
       " <DOM Element: description at 0x1cdf071fb50>,\n",
       " <DOM Text node \"'\\n'\">]"
      ]
     },
     "execution_count": 80,
     "metadata": {},
     "output_type": "execute_result"
    }
   ],
   "source": [
    "m = movies[0]\n",
    "\n",
    "m.childNodes"
   ]
  },
  {
   "cell_type": "code",
   "execution_count": 86,
   "id": "2bc6c993-e91a-49d5-a570-1b9419666b70",
   "metadata": {},
   "outputs": [
    {
     "data": {
      "text/plain": [
       "'War, Thriller'"
      ]
     },
     "execution_count": 86,
     "metadata": {},
     "output_type": "execute_result"
    }
   ],
   "source": [
    "m.getElementsByTagName('type')[0].childNodes[0].data"
   ]
  },
  {
   "cell_type": "code",
   "execution_count": null,
   "id": "c7e45cb7-0465-4a75-9603-5a40908bf792",
   "metadata": {},
   "outputs": [],
   "source": []
  }
 ],
 "metadata": {
  "kernelspec": {
   "display_name": "Python 3 (ipykernel)",
   "language": "python",
   "name": "python3"
  },
  "language_info": {
   "codemirror_mode": {
    "name": "ipython",
    "version": 3
   },
   "file_extension": ".py",
   "mimetype": "text/x-python",
   "name": "python",
   "nbconvert_exporter": "python",
   "pygments_lexer": "ipython3",
   "version": "3.10.7"
  }
 },
 "nbformat": 4,
 "nbformat_minor": 5
}
